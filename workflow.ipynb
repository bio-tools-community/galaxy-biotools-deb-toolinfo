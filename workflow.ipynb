{
 "cells": [
  {
   "cell_type": "markdown",
   "metadata": {},
   "source": [
    "Install external libraries"
   ]
  },
  {
   "cell_type": "code",
   "execution_count": null,
   "metadata": {},
   "outputs": [],
   "source": [
    "!pip install requests # library for making HTTP req\n",
    "!pip install lxml # library for working with XML\n",
    "!pip install bs4 # yet another library for working with XML"
   ]
  },
  {
   "cell_type": "markdown",
   "metadata": {},
   "source": [
    "Clone git repository with tools (to follow adopted contributing protocol it may be useful to make a fork of this repository at github first)"
   ]
  },
  {
   "cell_type": "code",
   "execution_count": null,
   "metadata": {},
   "outputs": [],
   "source": [
    "!git clone https://github.com/galaxyproject/tools-iuc"
   ]
  },
  {
   "cell_type": "markdown",
   "metadata": {},
   "source": [
    "Import classes and functions from installed libraries"
   ]
  },
  {
   "cell_type": "code",
   "execution_count": null,
   "metadata": {},
   "outputs": [],
   "source": [
    "import requests\n",
    "import json\n",
    "from lxml import etree\n",
    "from os import walk\n",
    "import os\n",
    "import glob\n",
    "import re\n",
    "from bs4 import BeautifulSoup\n",
    "import csv\n",
    "from urllib.request import urlopen"
   ]
  },
  {
   "cell_type": "markdown",
   "metadata": {},
   "source": [
    "Create utility functions"
   ]
  },
  {
   "cell_type": "markdown",
   "metadata": {},
   "source": [
    "Function to download bio.tools data"
   ]
  },
  {
   "cell_type": "code",
   "execution_count": null,
   "metadata": {},
   "outputs": [],
   "source": [
    "def fetch(p=\"\", c=[]):\n",
    "    try:\n",
    "        url = \"https://bio.tools/api/t\" + p + \"&format=json\"\n",
    "        json = requests.get(url).json()\n",
    "        \n",
    "        print(\"Page: {}\".format(p))\n",
    "\n",
    "        return fetch(json['next'], (c + json['list']))\n",
    "\n",
    "    except:\n",
    "        return c"
   ]
  },
  {
   "cell_type": "code",
   "execution_count": null,
   "metadata": {},
   "outputs": [],
   "source": [
    "data = fetch(p=\"?page=1\")"
   ]
  },
  {
   "cell_type": "markdown",
   "metadata": {},
   "source": [
    "Save data to file (to reuse in the next runs, but be careful, google collab provides no guarantees on data persistence)"
   ]
  },
  {
   "cell_type": "code",
   "execution_count": null,
   "metadata": {},
   "outputs": [],
   "source": [
    "with open('data.json', 'w') as outfile:\n",
    "    json.dump(data, outfile)"
   ]
  },
  {
   "cell_type": "markdown",
   "metadata": {},
   "source": [
    "Function that enriches data with doi lists"
   ]
  },
  {
   "cell_type": "code",
   "execution_count": null,
   "metadata": {},
   "outputs": [],
   "source": [
    "def enrich_publication_data(biotool_description):\n",
    "    biotool_description['dois'] = []\n",
    "    for publication in biotool_description['publication']:\n",
    "        if publication['doi']:\n",
    "            biotool_description['dois'].append({\n",
    "                'doi': publication['doi'],\n",
    "                'type': publication['type'],\n",
    "                'source': 'doi'\n",
    "            })\n",
    "        else:\n",
    "            if publication['pmid']:\n",
    "                doi = get_doi(publication['pmid'])\n",
    "                if doi:\n",
    "                    biotool_description['dois'].append({\n",
    "                        'doi': doi,\n",
    "                        'type': publication['type'],\n",
    "                        'source': 'pmid'\n",
    "                    })\n",
    "            elif publication['pmcid']:\n",
    "                doi = get_doi(publication['pmcid'])\n",
    "                if doi:\n",
    "                    biotool_description['dois'].append({\n",
    "                        'doi': doi,\n",
    "                        'type': publication['type'],\n",
    "                        'source': 'pmid'\n",
    "                    })"
   ]
  },
  {
   "cell_type": "markdown",
   "metadata": {},
   "source": [
    "Function to convert PMID and PMCID to DOI"
   ]
  },
  {
   "cell_type": "code",
   "execution_count": null,
   "metadata": {},
   "outputs": [],
   "source": [
    "def get_doi(pid):\n",
    "    # Based on implementation of DOI fetcher by Kenzo-Hugo Hillion\n",
    "    url = \"https://www.ncbi.nlm.nih.gov/pmc/utils/idconv/v1.0/?ids=\" + pid\n",
    "    xml = etree.fromstring(requests.get(url).text)\n",
    "    if xml.find('record') is not None:\n",
    "        try:\n",
    "            doi = xml.find('record').attrib['doi']\n",
    "            print(\"DOI was found for {}\".format(pid))\n",
    "            return doi\n",
    "        except:\n",
    "            print(\"DOI was not found for {}\".format(pid))\n",
    "            return None"
   ]
  },
  {
   "cell_type": "markdown",
   "metadata": {},
   "source": [
    "Enrich tools description with DOIs"
   ]
  },
  {
   "cell_type": "code",
   "execution_count": null,
   "metadata": {},
   "outputs": [],
   "source": [
    "i = 0\n",
    "for tool in data:\n",
    "    print(\"Tool #{}\".format(i))\n",
    "    enrich_publication_data(tool)\n",
    "    i += 1"
   ]
  },
  {
   "cell_type": "markdown",
   "metadata": {},
   "source": [
    "Save results to file"
   ]
  },
  {
   "cell_type": "code",
   "execution_count": null,
   "metadata": {},
   "outputs": [],
   "source": [
    "with open('data_enriched.json', 'w') as outfile:\n",
    "    json.dump(data, outfile)"
   ]
  },
  {
   "cell_type": "markdown",
   "metadata": {},
   "source": [
    "Get the list of XML files"
   ]
  },
  {
   "cell_type": "code",
   "execution_count": null,
   "metadata": {},
   "outputs": [],
   "source": [
    "path =\"{}/tools-iuc/tools/\".format(os.getcwd())"
   ]
  },
  {
   "cell_type": "code",
   "execution_count": null,
   "metadata": {},
   "outputs": [],
   "source": [
    "filepathes = []\n",
    "for (dirpath, dirnames, filenames) in walk(path):\n",
    "    for d in dirnames:\n",
    "        p = dirpath + d\n",
    "        filelist = dirList = glob.glob(p + \"/*.xml\")\n",
    "        filepathes += filelist"
   ]
  },
  {
   "cell_type": "markdown",
   "metadata": {},
   "source": [
    "Function for extracting DOI from Galaxy tool description"
   ]
  },
  {
   "cell_type": "code",
   "execution_count": null,
   "metadata": {},
   "outputs": [],
   "source": [
    "tools_dois = {}\n",
    "for filepath in filepathes:\n",
    "    #print(\"{}: Tool #{} parsed\".format(filepath, i))\n",
    "    with open(filepath) as f:\n",
    "        xml = BeautifulSoup(f, 'xml')\n",
    "    \n",
    "    dois = xml.find_all('citation', {\"type\" : \"doi\"})\n",
    "\n",
    "    if len(dois) > 0:\n",
    "        tools_dois[filepath] = list(map(lambda x: x.get_text(), dois))"
   ]
  },
  {
   "cell_type": "markdown",
   "metadata": {},
   "source": [
    "Function to extract EDAM topics' and operations' IDs from bio.tools description"
   ]
  },
  {
   "cell_type": "code",
   "execution_count": null,
   "metadata": {},
   "outputs": [],
   "source": [
    "def enrich_from_biotools(biotool, galaxy_tool_path, results):\n",
    "    # extract edam topic and edam operation\n",
    "    \n",
    "    topics = biotool.get('topic', [])\n",
    "    if len(topics) > 0:\n",
    "        results['biotools_topics'] += list(map(lambda x: x['uri'].split('/')[-1], topics))\n",
    "        results['biotools_topics'] = list(set(results['biotools_topics']))\n",
    "\n",
    "    functions = biotool.get('function', [])\n",
    "    \n",
    "    if \"biotools_operations\" in results and results['biotools_operations'] != None:\n",
    "        results['biotools_operations'] = []\n",
    "    \n",
    "    if len(functions) > 0:\n",
    "        for function in functions:\n",
    "            operations = function.get('operation', [])\n",
    "            if len(operations) > 0:\n",
    "                results['biotools_operations'].append(list(set(list(map(lambda x: x['uri'].split('/')[-1], operations)))))\n",
    "                \n",
    "    results['biotools_id'] = biotool.get('biotoolsID', None)\n",
    "\n",
    "    return results"
   ]
  },
  {
   "cell_type": "markdown",
   "metadata": {},
   "source": [
    "Function to extract EDAM topics' and operations' IDs from Debian Med repositories"
   ]
  },
  {
   "cell_type": "code",
   "execution_count": null,
   "metadata": {},
   "outputs": [],
   "source": [
    "def enrich_from_debmed(debtool, galaxy_tool_path, results):\n",
    "    topics = debtool.get('topics', [])\n",
    "    if topics and len(topics) > 0:\n",
    "        for topic in topics:\n",
    "            t = edam_data.get(topic, None)\n",
    "            results['deb_topics'].append({\n",
    "                'url': t,\n",
    "                'value': topic\n",
    "            })\n",
    "\n",
    "    functions = debtool.get('edam_scopes', [])\n",
    "    \n",
    "    if functions and len(functions) > 0:\n",
    "        for function in functions:\n",
    "            operations = function.get('function', [])\n",
    "            \n",
    "            if isinstance(operations, str):\n",
    "                op = edam_data.get(operations, None)\n",
    "                results['deb_operations'].append([{\n",
    "                    'url': op,\n",
    "                    'value': function\n",
    "                }])\n",
    "            else:\n",
    "                if len(operations) > 0:\n",
    "                    ops = []\n",
    "                    for operation in operations:\n",
    "                        op = edam_data.get(operation, None)\n",
    "                        ops.append({\n",
    "                            'url': op,\n",
    "                            'value': operation\n",
    "                        })\n",
    "                    if len(ops) > 0:\n",
    "                        results['deb_operations'].append(ops)\n",
    "                \n",
    "    results['deb_biotools_id'] = debtool.get('bio.tools', None)\n",
    "\n",
    "    return results"
   ]
  },
  {
   "cell_type": "code",
   "execution_count": null,
   "metadata": {},
   "outputs": [],
   "source": [
    "# The script `edam.sh` is written by Andreas Tille (https://github.com/tillea)\n",
    "# and copied from https://github.com/bio-tools/biotoolsConnect\n",
    "# It generates a file `edam.json`\n",
    "!bash edam.sh -j"
   ]
  },
  {
   "cell_type": "markdown",
   "metadata": {},
   "source": [
    "Load the JSON output of `edam.sh`"
   ]
  },
  {
   "cell_type": "code",
   "execution_count": null,
   "metadata": {},
   "outputs": [],
   "source": [
    "with open('edam.json') as json_file:  \n",
    "    debian_data = json.load(json_file)"
   ]
  },
  {
   "cell_type": "markdown",
   "metadata": {},
   "source": [
    "Download EDAM"
   ]
  },
  {
   "cell_type": "code",
   "execution_count": null,
   "metadata": {},
   "outputs": [],
   "source": [
    "version = '1.21'\n",
    "url = 'http://edamontology.org/EDAM_{}.tsv'.format(version)\n",
    "\n",
    "file = urlopen(url)\n",
    "\n",
    "with open('edam.tsv','wb') as output:\n",
    "    output.write(file.read())\n",
    "\n",
    "with open('edam.tsv','r') as tsv:\n",
    "    tsv = csv.reader(tsv, delimiter='\\t')\n",
    "    edam_data = {}\n",
    "    for row in tsv:\n",
    "        edam_data[row[0]] = {\n",
    "            'label': row[1],\n",
    "            'synonyms': row[2].split('|'),\n",
    "            'definition': row[54],\n",
    "            'comments': row[3].split('|'),\n",
    "        }\n",
    "        edam_data['_version'] = version"
   ]
  },
  {
   "cell_type": "markdown",
   "metadata": {},
   "source": [
    "Create tools annotations (match Galaxy tool's DOI against bio.tools' DOI and Debian Med tools' DOI to get topics and operations)"
   ]
  },
  {
   "cell_type": "code",
   "execution_count": null,
   "metadata": {},
   "outputs": [],
   "source": [
    "i = 0\n",
    "j = 0\n",
    "tool_annotations = {}\n",
    "for path, galaxy_dois in tools_dois.items():\n",
    "    \n",
    "    tool_annotations[path] = []\n",
    "    \n",
    "    for galaxy_doi in galaxy_dois:\n",
    "        for biotool in data:\n",
    "            for biotool_doi in biotool['dois']:\n",
    "                if galaxy_doi == biotool_doi['doi']:\n",
    "                    i += 1\n",
    "                    tool_edam = enrich_from_biotools(biotool, path, {\n",
    "                        'type': 'bio.tools',\n",
    "                        'biotools_topics': [],\n",
    "                        'biotools_operations': [],\n",
    "                        'biotools_id': None,\n",
    "                        'biotools_doi': biotool_doi\n",
    "                    })\n",
    "                    tool_annotations[path].append(tool_edam)\n",
    "        for deb_tool in debian_data:\n",
    "            if galaxy_doi == deb_tool['doi']:\n",
    "                j += 1\n",
    "                tool_edam = enrich_from_debmed(deb_tool, path, {\n",
    "                    'type': 'debmed',\n",
    "                    'deb_topics': [],\n",
    "                    'deb_operations': [],\n",
    "                    'deb_biotools_id': None,\n",
    "                })\n",
    "                tool_annotations[path].append(tool_edam)\n",
    "    \n",
    "print(\"Total bio.tools matches:\", i)\n",
    "print(\"Total Debian Med matches:\", j)"
   ]
  },
  {
   "cell_type": "code",
   "execution_count": null,
   "metadata": {},
   "outputs": [],
   "source": [
    "with open('./client/src/tool_annotations.json', 'w') as outfile:\n",
    "    json.dump(tool_annotations, outfile)"
   ]
  }
 ],
 "metadata": {
  "kernelspec": {
   "display_name": "Python 3",
   "language": "python",
   "name": "python3"
  },
  "language_info": {
   "codemirror_mode": {
    "name": "ipython",
    "version": 3
   },
   "file_extension": ".py",
   "mimetype": "text/x-python",
   "name": "python",
   "nbconvert_exporter": "python",
   "pygments_lexer": "ipython3",
   "version": "3.6.5"
  }
 },
 "nbformat": 4,
 "nbformat_minor": 2
}
